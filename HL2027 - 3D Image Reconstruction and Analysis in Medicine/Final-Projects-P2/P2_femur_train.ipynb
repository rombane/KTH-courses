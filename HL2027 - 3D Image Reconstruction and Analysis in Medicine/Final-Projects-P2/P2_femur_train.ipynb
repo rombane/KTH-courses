{
 "cells": [
  {
   "cell_type": "markdown",
   "metadata": {},
   "source": [
    "# Femur head vector generation"
   ]
  },
  {
   "cell_type": "code",
   "execution_count": 143,
   "metadata": {},
   "outputs": [],
   "source": [
    "import SimpleITK as sitk\n",
    "import matplotlib.pyplot as plt\n",
    "import matplotlib.axes  as axs\n",
    "import numpy as np\n",
    "import itertools\n",
    "import scipy.interpolate as interp\n",
    "\n",
    "\n",
    "from sklearn.linear_model import LogisticRegression\n",
    "from sklearn.svm import SVC\n",
    "from sklearn.gaussian_process import GaussianProcessClassifier\n",
    "from sklearn.gaussian_process.kernels import RBF\n",
    "from sklearn import datasets\n"
   ]
  },
  {
   "cell_type": "code",
   "execution_count": 2,
   "metadata": {},
   "outputs": [],
   "source": [
    "def get_femur_vector(itk_image,lower_limit,upper_limit):\n",
    "    \n",
    "    z_range = itk_image[0].GetSize()[2]\n",
    "    \n",
    "    vector_femur= np.zeros((1, z_range))\n",
    "    \n",
    "    slice_ones = vector_femur[ : , (lower_limit-1):(upper_limit)] \n",
    "    slice_ones[:] = 1\n",
    "    \n",
    "    return vector_femur #vector_femur is a vector array showing the existence of femur head along z-slices "
   ]
  },
  {
   "cell_type": "code",
   "execution_count": 294,
   "metadata": {},
   "outputs": [],
   "source": [
    "def train_classifier_ori (vect_list):\n",
    "    \n",
    "    xpts=[0]\n",
    "  \n",
    "    \n",
    "    i = 0\n",
    "    while i < (len(vect_list)):\n",
    "        ypts=np.arange(vect_list[i].shape[1])\n",
    "       \n",
    "        if i == 0 :\n",
    "            X_array= np.array(list(itertools.product(xpts, ypts)))\n",
    "            X_conc = X_array\n",
    "\n",
    "        else :\n",
    "            X_array_copy  = X_conc #\n",
    "            X_array= np.array(list(itertools.product(xpts, ypts)))\n",
    "            X_conc = np.concatenate((X_array,X_array_copy),axis = 0)\n",
    "            \n",
    "        i += 1\n",
    "    \n",
    "    \n",
    "    Y_conc = np.concatenate(vect_list,axis = 1)\n",
    "        \n",
    "        \n",
    "    X_train = X_conc\n",
    "    Y_train = np.concatenate(Y_conc)\n",
    "\n",
    "    classifier = SVC(kernel='rbf', C=2,class_weight = 'balanced', probability=True, random_state=0,decision_function_shape='ovr')   \n",
    "    classifier.fit(X_train, Y_train)  \n",
    "        \n",
    "        \n",
    "    return classifier\n",
    "\n"
   ]
  },
  {
   "cell_type": "code",
   "execution_count": 324,
   "metadata": {},
   "outputs": [],
   "source": [
    "def train_classifier (vect_list):\n",
    "    \n",
    "    xpts=[0]\n",
    "  \n",
    "    \n",
    "    i = 0\n",
    "    while i < (len(vect_list)):\n",
    "        ypts=(np.arange(vect_list[i].shape[1]))/(vect_list[i].shape[1]-1)*100\n",
    "       \n",
    "        if i == 0 :\n",
    "            X_array= np.array(list(itertools.product(xpts, ypts)))\n",
    "            X_conc = X_array\n",
    "\n",
    "        else :\n",
    "            X_array_copy  = X_conc #\n",
    "            X_array= np.array(list(itertools.product(xpts, ypts)))\n",
    "            X_conc = np.concatenate((X_array,X_array_copy),axis = 0)\n",
    "            \n",
    "        i += 1\n",
    "    \n",
    "    \n",
    "    Y_conc = np.concatenate(vect_list,axis = 1)\n",
    "        \n",
    "        \n",
    "    X_train = X_conc\n",
    "    Y_train = np.concatenate(Y_conc)\n",
    "\n",
    "    classifier = SVC(kernel='rbf', C=100, probability=True, random_state=0)   \n",
    "    classifier.fit(X_train, Y_train)  \n",
    "        \n",
    "        \n",
    "    return classifier\n",
    "\n",
    "\n"
   ]
  },
  {
   "cell_type": "code",
   "execution_count": 296,
   "metadata": {},
   "outputs": [],
   "source": [
    "\n",
    "def femur_head_selection_ori(im,vect_list, classifier):\n",
    "\n",
    "    i = 0\n",
    "    while i < (len(vect_list)):\n",
    "       \n",
    "       \n",
    "        if i == 0 :\n",
    "        \n",
    "            vect_length= vect_list[i].shape[1]\n",
    "            vect_length_max = vect_length\n",
    "            index_largest = 0\n",
    "            \n",
    "        else :\n",
    "            vect_length_ref = vect_length\n",
    "            vect_length= vect_list[i].shape[1]\n",
    "            \n",
    "            if vect_length > vect_length_max:\n",
    "                \n",
    "                vect_length_max = vect_length\n",
    "                index_largest = i\n",
    "        i += 1\n",
    "    \n",
    "    \n",
    " \n",
    "    \n",
    "   \n",
    "    \n",
    "    vect_slice_largest = vect_list[index_largest]\n",
    "    \n",
    "    xpts=[0]\n",
    "    ypts=np.arange(vect_slice_largest.shape[1])\n",
    "    X_array= np.array(list(itertools.product(xpts, ypts)))\n",
    "    \n",
    "   \n",
    "    proba_class = classifier.predict_proba(X_array)\n",
    "    femur_presence_proba=proba_class[:,1]\n",
    "    adjust_slices_target = im[0].GetSize()[2]\n",
    "    \n",
    "    interp_init = interp.interp1d(np.arange(femur_presence_proba.size),femur_presence_proba)\n",
    "    adjusted_array = interp_init(np.linspace(0,femur_presence_proba.size-1,adjust_slices_target))\n",
    "\n",
    "    index_max = max(range(len(adjusted_array)), key=adjusted_array.__getitem__) \n",
    "    slice_largest = index_max + 1\n",
    "    \n",
    "    #dec_func = classifier.decision_function\n",
    "    \n",
    "    \n",
    "    return slice_largest, adjusted_array"
   ]
  },
  {
   "cell_type": "code",
   "execution_count": 313,
   "metadata": {},
   "outputs": [],
   "source": [
    "\n",
    "def femur_head_selection(im, classifier):\n",
    "\n",
    "  #  i = 0\n",
    "   # while i < (len(vect_list)):\n",
    "       \n",
    "       \n",
    "       # if i == 0 :\n",
    "        \n",
    "         #   vect_length= vect_list[i].shape[1]\n",
    "         #   vect_length_max = vect_length\n",
    "        #    index_largest = 0\n",
    "            \n",
    "       # else :\n",
    "         #   vect_length_ref = vect_length\n",
    "         #   vect_length= vect_list[i].shape[1]\n",
    "            \n",
    "         #   if vect_length > vect_length_max:\n",
    "                \n",
    "        #3        vect_length_max = vect_length\n",
    "       #         index_largest = i\n",
    "        #i += 1\n",
    "    \n",
    "    \n",
    " \n",
    "    \n",
    "   \n",
    "    \n",
    "    #vect_slice_largest = vect_list[index_largest]\n",
    "    \n",
    "    xpts=[0]\n",
    "    ypts=(np.arange( im[0].GetSize()[2]))/ (im[0].GetSize()[2]-1)*100\n",
    "    X_test= np.array(list(itertools.product(xpts, ypts)))\n",
    "    \n",
    "   \n",
    "    proba_class = classifier.predict_proba(X_test)\n",
    "    femur_presence_proba=proba_class[:,1]\n",
    "   # 3adjust_slices_target = im[0].GetSize()[2]\n",
    "    \n",
    "    #interp_init = interp.interp1d(np.arange(femur_presence_proba.size),femur_presence_proba)\n",
    "   # adjusted_array = interp_init(np.linspace(0,femur_presence_proba.size-1,adjust_slices_target))\n",
    "\n",
    "    index_max = max(range(len(femur_presence_proba)), key=femur_presence_proba.__getitem__) \n",
    "   # slice_largest = index_max + 1\n",
    "    \n",
    "    #dec_func = classifier.decision_function\n",
    "    \n",
    "    \n",
    "    return index_max + 1, femur_presence_proba"
   ]
  },
  {
   "cell_type": "code",
   "execution_count": 323,
   "metadata": {},
   "outputs": [
    {
     "name": "stdout",
     "output_type": "stream",
     "text": [
      "[0.02767835 0.02605723 0.02614178 0.02687715 0.02748105 0.02770449\n",
      " 0.0277065  0.02768545 0.02769067 0.02769    0.02767749 0.02767681\n",
      " 0.02769084 0.02769611 0.02768131 0.02766443 0.02766671 0.0276847\n",
      " 0.02769598 0.02768649 0.02766527 0.02765276 0.0276589  0.02767565\n",
      " 0.02768929 0.02769393 0.02768992 0.02767828 0.02766845 0.02768068\n",
      " 0.02771155 0.02769531 0.02755812 0.02737183 0.02738655 0.02766362\n",
      " 0.0273387  0.02440454 0.01793966 0.01083509 0.00658545 0.00602008\n",
      " 0.01211089 0.05464742 0.26682966 0.63834149 0.80015228 0.82810464\n",
      " 0.81606261 0.80677489 0.80810061 0.81047716 0.81007213 0.80954213\n",
      " 0.8099673  0.81015385 0.80995451 0.81005644 0.81028238 0.8101619\n",
      " 0.80996457 0.81006885 0.81022422 0.81011381 0.80995733 0.81005845\n",
      " 0.81024909 0.8102238  0.81007785 0.81008555 0.8101837  0.81012252\n",
      " 0.80996837 0.80999073 0.81014595 0.81014239 0.80997374 0.80994159\n",
      " 0.81014058 0.81031398 0.81027733 0.81016768 0.81017692 0.81026135\n",
      " 0.81024513 0.81009242 0.80995065 0.80995565 0.8100822  0.81019996\n",
      " 0.8102208  0.81016475 0.81011685 0.81014115 0.81020777 0.81020585\n",
      " 0.81008743 0.80997898 0.81002399 0.81012825 0.81008498 0.80997807\n",
      " 0.81009753 0.81032527 0.81022425 0.81024047 0.81194209 0.81559983\n",
      " 0.81819723 0.81637213 0.81160067 0.80947491 0.81109587 0.81028724\n",
      " 0.80541709 0.80671296 0.81565399 0.79774272 0.67390914 0.36736546\n",
      " 0.11313944 0.04084693 0.02580566 0.02577582 0.02812756 0.02830121\n",
      " 0.02761575 0.02769974 0.02755857 0.02601797 0.02404269 0.02327712\n",
      " 0.02414587 0.02582877 0.02715554 0.02764191 0.02763429 0.02759553\n",
      " 0.02765087 0.02770629 0.02770269 0.02767677 0.02767162 0.02768285\n",
      " 0.0276877  0.02768086 0.02767254 0.02767245 0.02768192 0.02769213\n",
      " 0.02769092 0.02767732 0.02766371 0.02765834 0.02765609 0.02765394\n",
      " 0.02766126 0.02768147 0.02769656 0.0276882  0.02766724 0.02766288\n",
      " 0.02768346 0.02770467 0.02770122 0.02767823 0.0276631  0.02767213\n",
      " 0.02769383 0.02770456 0.02769524 0.02767959 0.02767692 0.02768922\n",
      " 0.0276983  0.02768775 0.02766453 0.02765267 0.02766523 0.02768901\n",
      " 0.02769979 0.02768756 0.02766336 0.02764585 0.02764676 0.02766487\n",
      " 0.02768692 0.02769587 0.0276857  0.02766912 0.02766489 0.02767631\n",
      " 0.02768731 0.0276824  0.02766579 0.02765615 0.02766487 0.02768498\n",
      " 0.02770189 0.02770985 0.02771334 0.02771392 0.02770426 0.02768052\n",
      " 0.02765551 0.02764951 0.02766673 0.02768797 0.02769083 0.02767394\n",
      " 0.02765698 0.02765809 0.02767489 0.02768818 0.02768286 0.02766405\n",
      " 0.02765182 0.02765984 0.02768017 0.02769143 0.02768282 0.02766733\n",
      " 0.02766743 0.02768854 0.02771204 0.0277165  0.0277011  0.02768364\n",
      " 0.02767899 0.02768537 0.02769032 0.02768435 0.02766848 0.02765324\n",
      " 0.02765142 0.02766721 0.02768972 0.02770041 0.02769124 0.0276744\n",
      " 0.02767024 0.02768442 0.0277005  0.0276978  0.02767426 0.02764865\n",
      " 0.027641   0.02765372 0.02767113 0.0276767  0.02767083 0.02766929\n",
      " 0.02768211 0.02769863 0.02770076 0.02768831 0.02767986 0.02768586\n",
      " 0.02769248 0.02768144 0.02765826 0.02764759 0.0276625  0.02769052\n",
      " 0.02771151 0.02771822 0.02771542 0.02770962 0.02770671 0.0277111\n",
      " 0.02771792 0.02771259 0.02768887 0.02766437 0.02766424 0.02768474\n",
      " 0.0276881  0.02765336 0.02762528 0.02766477 0.02770933 0.02752231\n",
      " 0.02692203 0.02616887 0.02606916 0.02768945]\n"
     ]
    },
    {
     "data": {
      "image/png": "[encoded data removed]",
      "text/plain": [
       "<matplotlib.figure.Figure at 0x23dc50e5710>"
      ]
     },
     "metadata": {},
     "output_type": "display_data"
    }
   ],
   "source": [
    "test_clf = train_classifier ((femur_train_3,femur_train_2,femur_train_1)) #input in a form of list, i.e. : clf = train_classifier ((vect_1,vect_2,vect_3))\n",
    "\n",
    "\n",
    "(proba_array,largest_slice) = femur_head_selection (images_test_1,test_clf)\n",
    "\n",
    "plt.plot(proba_array)\n",
    "print(largest_slice)"
   ]
  },
  {
   "cell_type": "code",
   "execution_count": 301,
   "metadata": {},
   "outputs": [],
   "source": [
    "####DEFINE TRAINING INPUT##########\n",
    "\n",
    "images_train_name_1 = 'g2_56_image.nii.gz'\n",
    "images_train_1 =  []\n",
    "images_train_1.append(sitk.ReadImage(images_train_name_1, sitk.sitkFloat32))\n",
    "lower_rg_1 = 81 #lower limit (where femur  head starts to exist)\n",
    "upper_rg_1 = 130 #upper limit (where femur head is last seen)\n",
    "\n",
    "images_train_name_2 = 'g2_57_image.nii.gz'\n",
    "images_train_2 =  []\n",
    "images_train_2.append(sitk.ReadImage(images_train_name_2, sitk.sitkFloat32))\n",
    "lower_rg_2 = 44\n",
    "upper_rg_2 = 110\n",
    "\n",
    "images_train_name_3 = 'g2_58_image.nii.gz'\n",
    "images_train_3 =  []\n",
    "images_train_3.append(sitk.ReadImage(images_train_name_3, sitk.sitkFloat32))\n",
    "lower_rg_3 = 46\n",
    "upper_rg_3 = 110\n",
    "\n",
    "#these are the training data, containing vector showing the existence of femur head along z-slices\n",
    "femur_train_1 = get_femur_vector(images_train_1,lower_rg_1-1,upper_rg_1-1)#this is the training data, containing vector showing the existence of femur head along z-slices\n",
    "femur_train_2 = get_femur_vector(images_train_2,lower_rg_2-1,upper_rg_2-1)\n",
    "femur_train_3 = get_femur_vector(images_train_3,lower_rg_3-1,upper_rg_3-1)"
   ]
  },
  {
   "cell_type": "code",
   "execution_count": null,
   "metadata": {},
   "outputs": [],
   "source": []
  },
  {
   "cell_type": "code",
   "execution_count": 166,
   "metadata": {},
   "outputs": [],
   "source": [
    "#DEFINE TEST DATA####\n",
    "images_test_name_1 = 'common_40_image.nii.gz'\n",
    "images_test_1 =  []\n",
    "images_test_1.append(sitk.ReadImage(images_test_name_1, sitk.sitkFloat32))\n",
    "\n",
    "\n",
    "images_test_name_2 = 'common_41_image.nii.gz'\n",
    "images_test_2 =  []\n",
    "images_test_2.append(sitk.ReadImage(images_test_name_2, sitk.sitkFloat32))\n",
    "\n",
    "\n",
    "images_test_name_3 = 'common_42_image.nii.gz'\n",
    "images_test_3 =  []\n",
    "images_test_3.append(sitk.ReadImage(images_test_name_3, sitk.sitkFloat32))\n",
    "\n",
    "\n",
    "#these are the testing vector data, containing vector showing the existence of femur head along z-slices\n",
    "\n",
    "lower_rg_1 = 54 #lower limit (where femur  head starts to exist)\n",
    "upper_rg_1 = 104 #upper limit (where femur head is last seen)\n",
    "femur_test_1 = get_femur_vector(images_test_1,lower_rg_1,upper_rg_1)#this is the testing data, containing vector showing the existence of femur head along z-slices\n",
    "\n",
    "lower_rg_2 = 67\n",
    "upper_rg_2 = 115\n",
    "femur_test_2 = get_femur_vector(images_test_2,lower_rg_2,upper_rg_2)\n",
    "\n",
    "lower_rg_3 = 47\n",
    "upper_rg_3 = 103\n",
    "femur_test_3 = get_femur_vector(images_test_3,lower_rg_3,upper_rg_3)"
   ]
  },
  {
   "cell_type": "code",
   "execution_count": 326,
   "metadata": {},
   "outputs": [
    {
     "data": {
      "image/png": "[encoded data removed]",
      "text/plain": [
       "<matplotlib.figure.Figure at 0x23dc52cee80>"
      ]
     },
     "metadata": {},
     "output_type": "display_data"
    },
    {
     "name": "stdout",
     "output_type": "stream",
     "text": [
      "The slice with the largest probability of femur head appearance: 57\n",
      "--------------------------------------------------\n",
      "SLICES           PROBABILITY\n",
      "[[ 57.           0.81264333]\n",
      " [129.           0.80137559]\n",
      " [ 58.           0.79890822]\n",
      " [130.           0.79857473]\n",
      " [ 61.           0.78880222]\n",
      " [126.           0.78761415]\n",
      " [112.           0.78727969]\n",
      " [113.           0.78690683]\n",
      " [111.           0.78679196]\n",
      " [ 60.           0.7867131 ]]\n",
      "\n",
      "\n"
     ]
    },
    {
     "data": {
      "image/png": "[encoded data removed]",
      "text/plain": [
       "<matplotlib.figure.Figure at 0x23de9fe35c0>"
      ]
     },
     "metadata": {},
     "output_type": "display_data"
    },
    {
     "name": "stdout",
     "output_type": "stream",
     "text": [
      "The slice with the largest probability of femur head appearance: 60\n",
      "--------------------------------------------------\n",
      "SLICES           PROBABILITY\n",
      "[[ 60.           0.81309485]\n",
      " [136.           0.80624199]\n",
      " [135.           0.79633728]\n",
      " [ 61.           0.79452123]\n",
      " [ 64.           0.78869966]\n",
      " [132.           0.78761929]\n",
      " [ 63.           0.78723064]\n",
      " [118.           0.78719257]\n",
      " [117.           0.78715337]\n",
      " [119.           0.78652893]]\n",
      "\n",
      "\n"
     ]
    },
    {
     "data": {
      "image/png": "[encoded data removed]",
      "text/plain": [
       "<matplotlib.figure.Figure at 0x23db45da208>"
      ]
     },
     "metadata": {},
     "output_type": "display_data"
    },
    {
     "name": "stdout",
     "output_type": "stream",
     "text": [
      "The slice with the largest probability of femur head appearance: 58\n",
      "--------------------------------------------------\n",
      "SLICES           PROBABILITY\n",
      "[[ 58.           0.81281259]\n",
      " [132.           0.80547371]\n",
      " [ 59.           0.79890822]\n",
      " [131.           0.79694992]\n",
      " [ 62.           0.78889015]\n",
      " [128.           0.78759621]\n",
      " [114.           0.78728312]\n",
      " [115.           0.78688102]\n",
      " [113.           0.78684251]\n",
      " [ 61.           0.78652092]]\n",
      "\n",
      "\n"
     ]
    }
   ],
   "source": [
    "vect_list = (femur_train_1,femur_train_2,femur_train_3)\n",
    "\n",
    "\n",
    "clf = train_classifier (vect_list) #input in a form of list, i.e. : clf = train_classifier ((vect_1,vect_2,vect_3))\n",
    "\n",
    "\n",
    "(slice_largest, proba_array) = femur_head_selection (images_test_1,clf)\n",
    "\n",
    "slice_largest\n",
    "plt.plot(proba_array)\n",
    "plt.grid()\n",
    "plt.xlabel('Slices along z-axis');\n",
    "plt.ylabel('Probability');\n",
    "plt.title('Experiment with 1st test image data')\n",
    "plt.xticks([0,25,50,75,100,125,150,175,200,225,250,275,300,325,350])\n",
    "plt.yticks([0,0.2,0.4,0.6,0.8,1.0])\n",
    "plt.show()\n",
    "\n",
    "print('The slice with the largest probability of femur head appearance: {}' .format(slice_largest))\n",
    "xpts=np.arange(1, (proba_array.size+1), 1)\n",
    "xpts= np.asarray(xpts)\n",
    "\n",
    "ypts=proba_array\n",
    "ypts= np.asarray(ypts)\n",
    "\n",
    "array_pre_sort = np.vstack((xpts, ypts)).T\n",
    "array_post_sort =   array_pre_sort[(-array_pre_sort)[:,1].argsort()]\n",
    "array_post_sort = array_post_sort[0:10,:]\n",
    "print('--------------------------------------------------')\n",
    "print('SLICES           PROBABILITY')\n",
    "print(array_post_sort)\n",
    "print('\\n')\n",
    "\n",
    "\n",
    "\n",
    "\n",
    "\n",
    "\n",
    "(slice_largest, proba_array) = femur_head_selection (images_test_2,clf)\n",
    "plt.plot(proba_array)\n",
    "plt.grid()\n",
    "plt.xlabel('Slices along z-axis');\n",
    "plt.ylabel('Probability');\n",
    "plt.title('Experiment with 2nd test image data')\n",
    "plt.xticks([0,25,50,75,100,125,150,175,200,225,250,275,300,325,350])\n",
    "plt.yticks([0,0.2,0.4,0.6,0.8,1.0])\n",
    "plt.show()\n",
    "\n",
    "print('The slice with the largest probability of femur head appearance: {}' .format(slice_largest))\n",
    "xpts=np.arange(1, (proba_array.size+1), 1)\n",
    "xpts= np.asarray(xpts)\n",
    "\n",
    "ypts=proba_array\n",
    "ypts= np.asarray(ypts)\n",
    "\n",
    "array_pre_sort = np.vstack((xpts, ypts)).T\n",
    "array_post_sort =   array_pre_sort[(-array_pre_sort)[:,1].argsort()]\n",
    "array_post_sort = array_post_sort[0:10,:]\n",
    "print('--------------------------------------------------')\n",
    "print('SLICES           PROBABILITY')\n",
    "print(array_post_sort)\n",
    "print('\\n')\n",
    "\n",
    "\n",
    "\n",
    "(slice_largest, proba_array) = femur_head_selection (images_test_3,clf)\n",
    "plt.plot(proba_array)\n",
    "plt.grid()\n",
    "plt.xlabel('Slices along z-axis');\n",
    "plt.ylabel('Probability');\n",
    "plt.title('Experiment with 3rd test image data')\n",
    "plt.xticks([0,25,50,75,100,125,150,175,200,225,250,275,300,325,350])\n",
    "plt.yticks([0,0.2,0.4,0.6,0.8,1.0])\n",
    "plt.show()\n",
    "\n",
    "print('The slice with the largest probability of femur head appearance: {}' .format(slice_largest))\n",
    "xpts=np.arange(1, (proba_array.size+1), 1)\n",
    "xpts= np.asarray(xpts)\n",
    "\n",
    "ypts=proba_array\n",
    "ypts= np.asarray(ypts)\n",
    "\n",
    "array_pre_sort = np.vstack((xpts, ypts)).T\n",
    "array_post_sort =   array_pre_sort[(-array_pre_sort)[:,1].argsort()]\n",
    "array_post_sort = array_post_sort[0:10,:]\n",
    "\n",
    "print('--------------------------------------------------')\n",
    "print('SLICES           PROBABILITY')\n",
    "print(array_post_sort)\n",
    "print('\\n')"
   ]
  },
  {
   "cell_type": "code",
   "execution_count": 319,
   "metadata": {},
   "outputs": [
    {
     "name": "stdout",
     "output_type": "stream",
     "text": [
      "SLICES           PROBABILITY\n",
      "[[ 48.           0.80586005]\n",
      " [108.           0.80428654]\n",
      " [107.           0.80257371]\n",
      " [ 49.           0.8018623 ]\n",
      " [ 53.           0.80083516]\n",
      " [ 52.           0.80077476]\n",
      " [ 56.           0.80071257]\n",
      " [ 94.           0.80067929]\n",
      " [ 89.           0.80067915]\n",
      " [103.           0.80067246]]\n"
     ]
    }
   ],
   "source": [
    "\n",
    "\n",
    "xpts=np.arange(1, (proba_array.size+1), 1)\n",
    "xpts= np.asarray(xpts)\n",
    "\n",
    "ypts=proba_array\n",
    "ypts= np.asarray(ypts)\n",
    "\n",
    "array_pre_sort = np.vstack((xpts, ypts)).T\n",
    "array_post_sort =   array_pre_sort[(-array_pre_sort)[:,1].argsort()]\n",
    "array_post_sort = array_post_sort[0:10,:]\n",
    "\n",
    "print('SLICES           PROBABILITY')\n",
    "print(array_post_sort)"
   ]
  },
  {
   "cell_type": "code",
   "execution_count": 151,
   "metadata": {},
   "outputs": [
    {
     "name": "stdout",
     "output_type": "stream",
     "text": [
      "[[1 4]\n",
      " [2 1]\n",
      " [3 3]\n",
      " [4 9]]\n"
     ]
    },
    {
     "data": {
      "text/plain": [
       "array([[2, 1],\n",
       "       [3, 3],\n",
       "       [1, 4],\n",
       "       [4, 9]])"
      ]
     },
     "execution_count": 151,
     "metadata": {},
     "output_type": "execute_result"
    }
   ],
   "source": [
    "a = np.array([[1,4],[2,1],[3,3],[4,9]])\n",
    "print(a)\n",
    "\n",
    "\n",
    "\n",
    "\n",
    "# sort list with key\n",
    "a = a[a[:,1].argsort()]\n",
    "\n",
    "a"
   ]
  },
  {
   "cell_type": "code",
   "execution_count": 56,
   "metadata": {},
   "outputs": [],
   "source": [
    "def femur_head_selection(im, classifier):\n",
    "\n",
    "    xpts=[0]\n",
    "\n",
    "    ypts=np.arange(im[0].GetSize()[2])\n",
    "    X_test = np.array(list(itertools.product(xpts, ypts)))\n",
    "    proba_class = classifier.predict_proba(X_test)\n",
    "\n",
    "    femur_presence_proba=proba_class[:,1]\n",
    "\n",
    "    slice_max = np.argmax(femur_presence_proba, axis=0)\n",
    "    \n",
    "    ####shifting adjustment####\n",
    "    slice_number_test = im[0].GetSize()[2]\n",
    "    slice_max_adj = round((slice_max*slice_number_test /282),0) + 1\n",
    "    \n",
    "    return slice_max_adj"
   ]
  },
  {
   "cell_type": "code",
   "execution_count": 57,
   "metadata": {},
   "outputs": [
    {
     "name": "stdout",
     "output_type": "stream",
     "text": [
      "282\n",
      "248\n",
      "277\n",
      "____________________\n",
      "286\n",
      "300\n",
      "291\n"
     ]
    }
   ],
   "source": [
    "print(femur_train_1.shape[1])\n",
    "print(femur_train_2.shape[1])\n",
    "print(femur_train_3.shape[1])\n",
    "print('____________________')\n",
    "\n",
    "print(femur_test_1.shape[1])\n",
    "print(femur_test_2.shape[1])\n",
    "print(femur_test_3.shape[1])\n",
    "\n",
    "\n",
    "\n",
    "xpts_test1=[0]\n",
    "ypts_test1=np.arange(femur_test_1.shape[1])\n",
    "array_test1 = np.array(list(itertools.product(xpts_test1, ypts_test1)))"
   ]
  },
  {
   "cell_type": "code",
   "execution_count": 36,
   "metadata": {},
   "outputs": [
    {
     "data": {
      "image/png": "[encoded data removed]",
      "text/plain": [
       "<matplotlib.figure.Figure at 0x23dc5146390>"
      ]
     },
     "metadata": {},
     "output_type": "display_data"
    }
   ],
   "source": [
    "#line = axs.Axes.axhline(linewidth=femur_test_3.shape[1])\n",
    "\n"
   ]
  },
  {
   "cell_type": "code",
   "execution_count": 45,
   "metadata": {},
   "outputs": [
    {
     "data": {
      "text/plain": [
       "<matplotlib.lines.Line2D at 0x23dc53cc8d0>"
      ]
     },
     "execution_count": 45,
     "metadata": {},
     "output_type": "execute_result"
    },
    {
     "data": {
      "image/png": "[encoded data removed]",
      "text/plain": [
       "<matplotlib.figure.Figure at 0x23dc5370b00>"
      ]
     },
     "metadata": {},
     "output_type": "display_data"
    }
   ],
   "source": [
    "\n",
    "####DEFINE TRAINING INPUT##########\n",
    "\n",
    "lower_rg_1 = 81 #lower limit (where femur  head starts to exist)\n",
    "upper_rg_1 = 130 #upper limit (where femur head is last seen)\n",
    "plt.axhline()\n",
    "\n",
    "plt.axhline(linewidth=4, color='r',y=.1, xmin=lower_rg_1/291, xmax=upper_rg_1/291)\n",
    "\n",
    "lower_rg_2 = 44\n",
    "upper_rg_2 = 110\n",
    "\n",
    "plt.axhline(linewidth=4, color='r',y=.2, xmin=lower_rg_2/291, xmax=upper_rg_2/291)\n",
    "lower_rg_3 = 46\n",
    "upper_rg_3 = 110\n",
    "plt.axhline(linewidth=4, color='r',y=.3, xmin=lower_rg_3/291, xmax=upper_rg_3/291)\n",
    "\n",
    "\n",
    "\n",
    "#these are the testing vector data, containing vector showing the existence of femur head along z-slices\n",
    "\n",
    "lower_rg_1 = 54 #lower limit (where femur  head starts to exist)\n",
    "upper_rg_1 = 104 #upper limit (where femur head is last seen)\n",
    "plt.axhline(linewidth=4, color='b',y=.5, xmin=lower_rg_1/291, xmax=upper_rg_1/291)\n",
    "\n",
    "lower_rg_2 = 67\n",
    "upper_rg_2 = 115\n",
    "plt.axhline(linewidth=4, color='b',y=.6, xmin=lower_rg_2/291, xmax=upper_rg_2/291)\n",
    "lower_rg_3 = 47\n",
    "upper_rg_3 = 103\n",
    "plt.axhline(linewidth=4, color='b',y=.7, xmin=lower_rg_3/291, xmax=upper_rg_3/291)"
   ]
  },
  {
   "cell_type": "code",
   "execution_count": null,
   "metadata": {},
   "outputs": [],
   "source": []
  }
 ],
 "metadata": {
  "kernelspec": {
   "display_name": "Python 3",
   "language": "python",
   "name": "python3"
  }
 },
 "nbformat": 4,
 "nbformat_minor": 2
}
