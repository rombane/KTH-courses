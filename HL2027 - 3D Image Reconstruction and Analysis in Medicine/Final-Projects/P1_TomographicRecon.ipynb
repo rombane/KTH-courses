{
 "cells": [
  {
   "cell_type": "markdown",
   "metadata": {},
   "source": [
    "# Miniproject on Tomographic Reconstruction\n",
    "For the miniproject you should work on a concrete example with three-dimensional data of a realistic size. First you should include some dependencies, in particular the last entry provides you with a specific geometry for the data."
   ]
  },
  {
   "cell_type": "code",
   "execution_count": null,
   "metadata": {},
   "outputs": [],
   "source": [
    "import odl\n",
    "import numpy as np\n",
    "import matplotlib.pyplot as plt\n",
    "import odl.contrib.tomo"
   ]
  },
  {
   "cell_type": "markdown",
   "metadata": {},
   "source": [
    "For testing your code, you should not use the huge realistic dataset, since it is about 750 MB large. Instead you can use the integrated ODL phantoms (under ``odl.phantom``) or use a simple black-and-white image which you provide to the system.\n",
    "\n",
    "You should implement a reconstruction method which works on the realistic dataset according to the following specifications.\n",
    "\n",
    "* You should reconstruct the original image $x$ as good as possible, and you are given the result $y = A x + \\varepsilon$ of an application of the ray transform (forward) operator $A$ to $x$, and $\\varepsilon$ is some noise which I added to the exact result. The ray transform is obtained as follows:"
   ]
  },
  {
   "cell_type": "code",
   "execution_count": null,
   "metadata": {},
   "outputs": [],
   "source": [
    "# The geometry is already included in ODL.\n",
    "geometry = odl.contrib.tomo.elekta_icon_geometry()\n",
    "\n",
    "# The reconstruction space\n",
    "reco_space = odl.uniform_discr([-112., -112., 0.],\n",
    "                               [112., 112., 224.],\n",
    "                               (448, 448, 448), dtype='float32')\n",
    "\n",
    "# With these data, we can compute the ray transform\n",
    "# (which is the operator A in the text above).\n",
    "# This operator can be applied to a reco_space.element()\n",
    "# and returns a data_space.element().\n",
    "ray_trafo = odl.tomo.RayTransform(reco_space, geometry)\n",
    "\n",
    "# The data space is the range of the ray transform.\n",
    "data_space = ray_trafo.range"
   ]
  },
  {
   "cell_type": "markdown",
   "metadata": {},
   "source": [
    "* Instead of working directly with the operator $A$, you should work with a *regularization* of the same operator. A simple regularization is given by the so-called *Tikhonov regularization*. Choose a parameter $\\lambda > 0$ and solve instead of the least-squares problem\n",
    "$$ \\min_{x} \\frac{1}{2} \\| Ax - b \\|^2 $$\n",
    "the *regularized problem*\n",
    "$$ \\min_{x} \\frac{1}{2} \\| Ax - b \\|^2 + \\frac{\\lambda}{2} \\| x \\|^2, $$\n",
    "where the left norm is the norm on the *data space* and the right one is the norm on the *reconstruction space*. The optimality conditions are obtained by setting the gradient of this function equal to zero and are\n",
    "$$ 0 = A^t (Ax - b) + \\lambda x $$\n",
    "\n",
    "* The advantage of the regualarization is that the issue of *semi-convergence* will be weaker, i.e., for a suitably chosen $\\lambda$, the solution of the modified least-squares problem does not suffer so much from overfitting while keeping the error introduced by modifying the system relatively small. Therefore, you can solve the system with the conjugate gradient method from the lecture.\n",
    "\n",
    "* *Hint.* You might want to use the more general form of the CG algorithms (the one which involves the functional $Q$) unless you know how to insert the regularization into the special one.\n",
    "\n",
    "* Now for the regularization parameter: We have to find some $\\lambda$ which gives us a good compromise between data-fit and regularization. You should implement one of the  methods from the lecture to find a good choice of $\\lambda$. In any case, describe in your own words what you are doing.\n",
    "\n",
    "* Document your code by describing what it does. Structure the functions you use so that they accept general input. Give a meaning to each parameter of your function.\n",
    "\n",
    "* Test your code with a two-dimensional image.\n",
    "\n",
    "* Now get the file `noisy_data.npy` where you find some data which fits the `data_space` from above. Compute a reconstruction of the original data. Show some slices of the result.\n",
    "\n",
    "* In your protocol, document your tests and the results of the problem.\n",
    "\n",
    "* *Hint.* If your code runs too slow, try to avoid making copies of intermediate results.\n",
    "\n",
    "* You can protocol your work as a notebook (choose `LaTeX` to export).\n",
    "\n",
    "The project work can be done in groups of **2 people**. Each group has to hand in a report of maximum **4 pages** describing\n",
    "\n",
    "1.       underlying **problems**,\n",
    "\n",
    "2.       basic **theories**,\n",
    "\n",
    "3.       solution **strategies** used,\n",
    "\n",
    "4.       findings from the **experiments**,\n",
    "\n",
    "5.       final **conclusions**.\n",
    "\n",
    "Make sure to **include contents for each** of the given tasks. The highlighted parts may help to put emphasis on certain aspects.\n",
    "\n",
    "Each group will do a **demo and present** its results to the rest of class the **16th of May**. Each group will have **7 minutes** for this. The report and code must be submitted not later than the **14th of May**. The grades of the mini-exams of the modules *Reconstruction and Restoration* are part of the final assessment for this project:\n",
    "\n",
    "| Part                 | weight    |\n",
    "| -------------------- | --------- |\n",
    "| Report               | 40 points |\n",
    "| Demo & presentation  | 20 points |\n",
    "| Code                 | 20 points |\n",
    "| Mini exams           | 20 points |"
   ]
  },
  {
   "cell_type": "code",
   "execution_count": null,
   "metadata": {},
   "outputs": [],
   "source": []
  }
 ],
 "metadata": {
  "kernelspec": {
   "display_name": "Python 3",
   "language": "python",
   "name": "python3"
  },
  "language_info": {
   "codemirror_mode": {
    "name": "ipython",
    "version": 3
   },
   "file_extension": ".py",
   "mimetype": "text/x-python",
   "name": "python",
   "nbconvert_exporter": "python",
   "pygments_lexer": "ipython3",
   "version": "3.6.3"
  }
 },
 "nbformat": 4,
 "nbformat_minor": 2
}
